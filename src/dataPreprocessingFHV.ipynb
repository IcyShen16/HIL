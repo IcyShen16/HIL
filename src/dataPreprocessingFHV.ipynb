{
 "cells": [
  {
   "cell_type": "code",
   "execution_count": 1,
   "id": "9d87d561",
   "metadata": {},
   "outputs": [],
   "source": [
    "import numpy as np\n",
    "import pandas as pd \n",
    "\n",
    "Data_path = \"../data/\"\n",
    "df_path = Data_path + \"fhvhv_tripdata_2019-06.csv\""
   ]
  },
  {
   "cell_type": "code",
   "execution_count": 2,
   "id": "bbeaf9aa",
   "metadata": {},
   "outputs": [
    {
     "name": "stdout",
     "output_type": "stream",
     "text": [
      "  hvfhs_license_num dispatching_base_num      pickup_datetime  \\\n",
      "0            HV0002               B03035  2019-06-01 00:40:55   \n",
      "1            HV0005               B02510  2019-06-01 00:04:47   \n",
      "2            HV0005               B02510  2019-06-01 00:48:00   \n",
      "3            HV0002               B03035  2019-06-01 00:59:25   \n",
      "4            HV0003               B02682  2019-06-01 00:05:11   \n",
      "\n",
      "      dropoff_datetime  PULocationID  DOLocationID  SR_Flag  \n",
      "0  2019-06-01 01:03:58           256            87      NaN  \n",
      "1  2019-06-01 00:25:53           163           265      NaN  \n",
      "2  2019-06-01 00:59:49           132           216      1.0  \n",
      "3  2019-06-01 01:04:07           152           116      NaN  \n",
      "4  2019-06-01 00:23:35           148           233      NaN  \n"
     ]
    }
   ],
   "source": [
    "df_full = pd.read_csv(df_path)\n",
    "print(df_full.head())"
   ]
  },
  {
   "cell_type": "code",
   "execution_count": 3,
   "id": "2c16f00b",
   "metadata": {},
   "outputs": [],
   "source": [
    "# deal with time type\n",
    "df_full.loc[:,\"pickup_datetime\"] = pd.to_datetime(df_full.pickup_datetime)\n",
    "df_full.loc[:, \"dropoff_datetime\"] = pd.to_datetime(df_full.dropoff_datetime)\n",
    "df_full[\"hour\"] = df_full.pickup_datetime.dt.hour # use the arrival process to define the hour"
   ]
  },
  {
   "cell_type": "code",
   "execution_count": 10,
   "id": "3833f6ab",
   "metadata": {
    "scrolled": true
   },
   "outputs": [
    {
     "name": "stdout",
     "output_type": "stream",
     "text": [
      "        hvfhs_license_num dispatching_base_num     pickup_datetime  \\\n",
      "3452762            HV0005               B02510 2019-06-06 00:31:47   \n",
      "3452763            HV0005               B02510 2019-06-06 00:51:28   \n",
      "3452764            HV0005               B02510 2019-06-06 00:09:29   \n",
      "3452765            HV0005               B02510 2019-06-06 00:36:51   \n",
      "3452766            HV0003               B02764 2019-06-06 00:48:58   \n",
      "\n",
      "           dropoff_datetime  PULocationID  DOLocationID  SR_Flag  hour  \n",
      "3452762 2019-06-06 00:46:12            90            66      NaN     0  \n",
      "3452763 2019-06-06 01:06:31            66           188      NaN     0  \n",
      "3452764 2019-06-06 00:13:45           197           197      NaN     0  \n",
      "3452765 2019-06-06 00:54:20           255           140      NaN     0  \n",
      "3452766 2019-06-06 00:54:17           192           121      NaN     0  \n"
     ]
    }
   ],
   "source": [
    "# cond = (pd.to_datetime(\"20160607\", format=\"%Y%m%d\") > df_full.pickup_datetime) && (pd.to_datetime(\"20160606\", format=\"%Y%m%d\") <= df_full.pickup_datetime)\n",
    "df= df_full.loc[(pd.to_datetime(\"20190607\", format=\"%Y%m%d\") > df_full.pickup_datetime) & (pd.to_datetime(\"20190606\", format=\"%Y%m%d\") <= df_full.pickup_datetime)]\n",
    "print(df.head())"
   ]
  },
  {
   "cell_type": "code",
   "execution_count": 16,
   "id": "601b3f9f",
   "metadata": {},
   "outputs": [
    {
     "data": {
      "text/plain": [
       "<AxesSubplot:>"
      ]
     },
     "execution_count": 16,
     "metadata": {},
     "output_type": "execute_result"
    },
    {
     "data": {
      "image/png": "[encoded data removed]",
      "text/plain": [
       "<Figure size 432x288 with 1 Axes>"
      ]
     },
     "metadata": {
      "needs_background": "light"
     },
     "output_type": "display_data"
    }
   ],
   "source": [
    "df[\"hour\"].value_counts().sort_index().plot.bar()"
   ]
  },
  {
   "cell_type": "code",
   "execution_count": null,
   "id": "78912cb8",
   "metadata": {},
   "outputs": [],
   "source": []
  }
 ],
 "metadata": {
  "kernelspec": {
   "display_name": "Python 3 (ipykernel)",
   "language": "python",
   "name": "python3"
  },
  "language_info": {
   "codemirror_mode": {
    "name": "ipython",
    "version": 3
   },
   "file_extension": ".py",
   "mimetype": "text/x-python",
   "name": "python",
   "nbconvert_exporter": "python",
   "pygments_lexer": "ipython3",
   "version": "3.9.5"
  }
 },
 "nbformat": 4,
 "nbformat_minor": 5
}
